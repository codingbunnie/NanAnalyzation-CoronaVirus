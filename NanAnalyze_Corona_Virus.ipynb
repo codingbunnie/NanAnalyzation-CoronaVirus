{
  "nbformat": 4,
  "nbformat_minor": 0,
  "metadata": {
    "colab": {
      "name": "NanAnalyze - Corona Virus.ipynb",
      "provenance": [],
      "collapsed_sections": []
    },
    "kernelspec": {
      "name": "python3",
      "display_name": "Python 3"
    },
    "accelerator": "GPU"
  },
  "cells": [
    {
      "cell_type": "code",
      "metadata": {
        "id": "m0Ej_vnnCCOn",
        "colab_type": "code",
        "colab": {}
      },
      "source": [
        "import pandas as pd\n",
        "import numpy as np\n",
        "import matplotlib.pyplot as plt\n",
        "import matplotlib.dates as mdates\n",
        "import seaborn as sns "
      ],
      "execution_count": 0,
      "outputs": []
    },
    {
      "cell_type": "code",
      "metadata": {
        "id": "uGuIYNtcMwU3",
        "colab_type": "code",
        "outputId": "526753b7-0ff8-471f-ec49-03d8ffe486b0",
        "colab": {
          "base_uri": "https://localhost:8080/",
          "height": 34
        }
      },
      "source": [
        "from google.colab import drive\n",
        "drive.mount('/content/drive')"
      ],
      "execution_count": 48,
      "outputs": [
        {
          "output_type": "stream",
          "text": [
            "Drive already mounted at /content/drive; to attempt to forcibly remount, call drive.mount(\"/content/drive\", force_remount=True).\n"
          ],
          "name": "stdout"
        }
      ]
    },
    {
      "cell_type": "code",
      "metadata": {
        "id": "OmxP9WBeNzGj",
        "colab_type": "code",
        "outputId": "99f8957b-d4c2-4d5d-d1c2-24204f333403",
        "colab": {
          "base_uri": "https://localhost:8080/",
          "height": 238
        }
      },
      "source": [
        "data = pd.read_csv('/content/drive/My Drive/NanAnalyzation/COVID19/covid_19_data.csv')\n",
        "data.info()"
      ],
      "execution_count": 49,
      "outputs": [
        {
          "output_type": "stream",
          "text": [
            "<class 'pandas.core.frame.DataFrame'>\n",
            "RangeIndex: 3395 entries, 0 to 3394\n",
            "Data columns (total 8 columns):\n",
            "SNo                3395 non-null int64\n",
            "ObservationDate    3395 non-null object\n",
            "Province/State     2264 non-null object\n",
            "Country/Region     3395 non-null object\n",
            "Last Update        3395 non-null object\n",
            "Confirmed          3395 non-null float64\n",
            "Deaths             3395 non-null float64\n",
            "Recovered          3395 non-null float64\n",
            "dtypes: float64(3), int64(1), object(4)\n",
            "memory usage: 212.3+ KB\n"
          ],
          "name": "stdout"
        }
      ]
    },
    {
      "cell_type": "code",
      "metadata": {
        "id": "-SBkuosKOCj3",
        "colab_type": "code",
        "colab": {
          "base_uri": "https://localhost:8080/",
          "height": 204
        },
        "outputId": "27ac9c15-4a23-4715-ee08-3a6ff933a192"
      },
      "source": [
        "# Drop Sno Collumn\n",
        "data.drop(columns = ['SNo'], axis = 1, inplace = True)\n",
        "# data = data[['ObservationDate', 'Province/State', 'Country/Region', 'Last Update', 'Confirmed', 'Deaths', 'Recovered']]\n",
        "data.tail()"
      ],
      "execution_count": 50,
      "outputs": [
        {
          "output_type": "execute_result",
          "data": {
            "text/html": [
              "<div>\n",
              "<style scoped>\n",
              "    .dataframe tbody tr th:only-of-type {\n",
              "        vertical-align: middle;\n",
              "    }\n",
              "\n",
              "    .dataframe tbody tr th {\n",
              "        vertical-align: top;\n",
              "    }\n",
              "\n",
              "    .dataframe thead th {\n",
              "        text-align: right;\n",
              "    }\n",
              "</style>\n",
              "<table border=\"1\" class=\"dataframe\">\n",
              "  <thead>\n",
              "    <tr style=\"text-align: right;\">\n",
              "      <th></th>\n",
              "      <th>ObservationDate</th>\n",
              "      <th>Province/State</th>\n",
              "      <th>Country/Region</th>\n",
              "      <th>Last Update</th>\n",
              "      <th>Confirmed</th>\n",
              "      <th>Deaths</th>\n",
              "      <th>Recovered</th>\n",
              "    </tr>\n",
              "  </thead>\n",
              "  <tbody>\n",
              "    <tr>\n",
              "      <th>3390</th>\n",
              "      <td>03/04/2020</td>\n",
              "      <td>NaN</td>\n",
              "      <td>Ukraine</td>\n",
              "      <td>2020-03-03T15:33:02</td>\n",
              "      <td>1.0</td>\n",
              "      <td>0.0</td>\n",
              "      <td>0.0</td>\n",
              "    </tr>\n",
              "    <tr>\n",
              "      <th>3391</th>\n",
              "      <td>03/04/2020</td>\n",
              "      <td>From Diamond Princess</td>\n",
              "      <td>Australia</td>\n",
              "      <td>2020-02-29T02:03:10</td>\n",
              "      <td>0.0</td>\n",
              "      <td>0.0</td>\n",
              "      <td>0.0</td>\n",
              "    </tr>\n",
              "    <tr>\n",
              "      <th>3392</th>\n",
              "      <td>03/04/2020</td>\n",
              "      <td>Lackland, TX (From Diamond Princess)</td>\n",
              "      <td>US</td>\n",
              "      <td>2020-02-24T23:33:02</td>\n",
              "      <td>0.0</td>\n",
              "      <td>0.0</td>\n",
              "      <td>0.0</td>\n",
              "    </tr>\n",
              "    <tr>\n",
              "      <th>3393</th>\n",
              "      <td>03/04/2020</td>\n",
              "      <td>Omaha, NE (From Diamond Princess)</td>\n",
              "      <td>US</td>\n",
              "      <td>2020-02-24T23:33:02</td>\n",
              "      <td>0.0</td>\n",
              "      <td>0.0</td>\n",
              "      <td>0.0</td>\n",
              "    </tr>\n",
              "    <tr>\n",
              "      <th>3394</th>\n",
              "      <td>03/04/2020</td>\n",
              "      <td>Travis, CA (From Diamond Princess)</td>\n",
              "      <td>US</td>\n",
              "      <td>2020-02-24T23:33:02</td>\n",
              "      <td>0.0</td>\n",
              "      <td>0.0</td>\n",
              "      <td>0.0</td>\n",
              "    </tr>\n",
              "  </tbody>\n",
              "</table>\n",
              "</div>"
            ],
            "text/plain": [
              "     ObservationDate                        Province/State  ... Deaths Recovered\n",
              "3390      03/04/2020                                   NaN  ...    0.0       0.0\n",
              "3391      03/04/2020                 From Diamond Princess  ...    0.0       0.0\n",
              "3392      03/04/2020  Lackland, TX (From Diamond Princess)  ...    0.0       0.0\n",
              "3393      03/04/2020     Omaha, NE (From Diamond Princess)  ...    0.0       0.0\n",
              "3394      03/04/2020    Travis, CA (From Diamond Princess)  ...    0.0       0.0\n",
              "\n",
              "[5 rows x 7 columns]"
            ]
          },
          "metadata": {
            "tags": []
          },
          "execution_count": 50
        }
      ]
    },
    {
      "cell_type": "markdown",
      "metadata": {
        "id": "T1p9Hi00las2",
        "colab_type": "text"
      },
      "source": [
        "# Cases by Country / Region"
      ]
    },
    {
      "cell_type": "code",
      "metadata": {
        "id": "rDlZQUCjbhMH",
        "colab_type": "code",
        "outputId": "75e46675-7b6f-4c8e-b782-1dcf5a8cf1cc",
        "colab": {
          "base_uri": "https://localhost:8080/",
          "height": 636
        }
      },
      "source": [
        "# Total number of Confirmed, Deaths & Recovered Cases by Country / Region\n",
        "dataSum = data.groupby(['Country/Region', 'Province/State']).last().sum(level = 'Country/Region').sort_values(by = 'Confirmed', ascending = False)\n",
        "print(dataSum.info())\n",
        "dataSum"
      ],
      "execution_count": 51,
      "outputs": [
        {
          "output_type": "stream",
          "text": [
            "<class 'pandas.core.frame.DataFrame'>\n",
            "Index: 13 entries, Mainland China to Iraq\n",
            "Data columns (total 3 columns):\n",
            "Confirmed    13 non-null float64\n",
            "Deaths       13 non-null float64\n",
            "Recovered    13 non-null float64\n",
            "dtypes: float64(3)\n",
            "memory usage: 416.0+ bytes\n",
            "None\n"
          ],
          "name": "stdout"
        },
        {
          "output_type": "execute_result",
          "data": {
            "text/html": [
              "<div>\n",
              "<style scoped>\n",
              "    .dataframe tbody tr th:only-of-type {\n",
              "        vertical-align: middle;\n",
              "    }\n",
              "\n",
              "    .dataframe tbody tr th {\n",
              "        vertical-align: top;\n",
              "    }\n",
              "\n",
              "    .dataframe thead th {\n",
              "        text-align: right;\n",
              "    }\n",
              "</style>\n",
              "<table border=\"1\" class=\"dataframe\">\n",
              "  <thead>\n",
              "    <tr style=\"text-align: right;\">\n",
              "      <th></th>\n",
              "      <th>Confirmed</th>\n",
              "      <th>Deaths</th>\n",
              "      <th>Recovered</th>\n",
              "    </tr>\n",
              "    <tr>\n",
              "      <th>Country/Region</th>\n",
              "      <th></th>\n",
              "      <th></th>\n",
              "      <th></th>\n",
              "    </tr>\n",
              "  </thead>\n",
              "  <tbody>\n",
              "    <tr>\n",
              "      <th>Mainland China</th>\n",
              "      <td>80271.0</td>\n",
              "      <td>2981.0</td>\n",
              "      <td>49955.0</td>\n",
              "    </tr>\n",
              "    <tr>\n",
              "      <th>Others</th>\n",
              "      <td>767.0</td>\n",
              "      <td>6.0</td>\n",
              "      <td>10.0</td>\n",
              "    </tr>\n",
              "    <tr>\n",
              "      <th>US</th>\n",
              "      <td>193.0</td>\n",
              "      <td>12.0</td>\n",
              "      <td>11.0</td>\n",
              "    </tr>\n",
              "    <tr>\n",
              "      <th>Hong Kong</th>\n",
              "      <td>105.0</td>\n",
              "      <td>2.0</td>\n",
              "      <td>37.0</td>\n",
              "    </tr>\n",
              "    <tr>\n",
              "      <th>Australia</th>\n",
              "      <td>52.0</td>\n",
              "      <td>2.0</td>\n",
              "      <td>11.0</td>\n",
              "    </tr>\n",
              "    <tr>\n",
              "      <th>Taiwan</th>\n",
              "      <td>42.0</td>\n",
              "      <td>1.0</td>\n",
              "      <td>12.0</td>\n",
              "    </tr>\n",
              "    <tr>\n",
              "      <th>Canada</th>\n",
              "      <td>36.0</td>\n",
              "      <td>0.0</td>\n",
              "      <td>6.0</td>\n",
              "    </tr>\n",
              "    <tr>\n",
              "      <th>Macau</th>\n",
              "      <td>10.0</td>\n",
              "      <td>0.0</td>\n",
              "      <td>9.0</td>\n",
              "    </tr>\n",
              "    <tr>\n",
              "      <th>Germany</th>\n",
              "      <td>5.0</td>\n",
              "      <td>0.0</td>\n",
              "      <td>0.0</td>\n",
              "    </tr>\n",
              "    <tr>\n",
              "      <th>Austria</th>\n",
              "      <td>2.0</td>\n",
              "      <td>0.0</td>\n",
              "      <td>0.0</td>\n",
              "    </tr>\n",
              "    <tr>\n",
              "      <th>Israel</th>\n",
              "      <td>1.0</td>\n",
              "      <td>0.0</td>\n",
              "      <td>0.0</td>\n",
              "    </tr>\n",
              "    <tr>\n",
              "      <th>Lebanon</th>\n",
              "      <td>1.0</td>\n",
              "      <td>0.0</td>\n",
              "      <td>0.0</td>\n",
              "    </tr>\n",
              "    <tr>\n",
              "      <th>Iraq</th>\n",
              "      <td>0.0</td>\n",
              "      <td>0.0</td>\n",
              "      <td>0.0</td>\n",
              "    </tr>\n",
              "  </tbody>\n",
              "</table>\n",
              "</div>"
            ],
            "text/plain": [
              "                Confirmed  Deaths  Recovered\n",
              "Country/Region                              \n",
              "Mainland China    80271.0  2981.0    49955.0\n",
              "Others              767.0     6.0       10.0\n",
              "US                  193.0    12.0       11.0\n",
              "Hong Kong           105.0     2.0       37.0\n",
              "Australia            52.0     2.0       11.0\n",
              "Taiwan               42.0     1.0       12.0\n",
              "Canada               36.0     0.0        6.0\n",
              "Macau                10.0     0.0        9.0\n",
              "Germany               5.0     0.0        0.0\n",
              "Austria               2.0     0.0        0.0\n",
              "Israel                1.0     0.0        0.0\n",
              "Lebanon               1.0     0.0        0.0\n",
              "Iraq                  0.0     0.0        0.0"
            ]
          },
          "metadata": {
            "tags": []
          },
          "execution_count": 51
        }
      ]
    },
    {
      "cell_type": "code",
      "metadata": {
        "id": "_NzvQj2Om33C",
        "colab_type": "code",
        "colab": {
          "base_uri": "https://localhost:8080/",
          "height": 349
        },
        "outputId": "90c1745d-a32f-489e-9d0b-64dd05d24b83"
      },
      "source": [
        "# Mainland China Cases versus Others\n",
        "\n",
        "dataSumChina = dataSum.copy()\n",
        "dataSumChina['Country/Region'] = dataSumChina.index\n",
        "dataSumChina['Country/Region'] = dataSumChina['Country/Region'].apply(lambda x: 'Mainland China' if x == 'Mainland China' else 'Others' )\n",
        "dataSumChina = dataSumChina.reset_index(drop=True).groupby('Country/Region').sum()\n",
        "print(dataSumChina)\n",
        "\n",
        "plt.title('Confirmed / Recovered / Deaths by Location Mainland China vs. Others')\n",
        "plt.grid()\n",
        "width = 0.8\n",
        "\n",
        "plt.bar(x = dataSumChina.index , height = dataSumChina['Confirmed'], color ='tab:cyan', edgecolor = 'white', width = width)\n",
        "plt.bar(x = dataSumChina.index , height = dataSumChina['Recovered'], bottom = dataSumChina['Confirmed'], color ='tab:green', edgecolor = 'white', width = width)\n",
        "plt.bar(x = dataSumChina.index , height = dataSumChina['Deaths'], bottom = dataSumChina['Recovered'] + dataSumChina['Confirmed'], color ='tab:red', edgecolor = 'white', width = width)\n",
        "\n",
        "plt.legend(dataSumChina[['Confirmed', 'Recovered', 'Deaths']], loc = 0)\n",
        "plt.show()\n"
      ],
      "execution_count": 52,
      "outputs": [
        {
          "output_type": "stream",
          "text": [
            "                Confirmed  Deaths  Recovered\n",
            "Country/Region                              \n",
            "Mainland China    80271.0  2981.0    49955.0\n",
            "Others             1214.0    23.0       96.0\n"
          ],
          "name": "stdout"
        },
        {
          "output_type": "display_data",
          "data": {
            "image/png": "[encoded data removed]",
            "text/plain": [
              "<Figure size 432x288 with 1 Axes>"
            ]
          },
          "metadata": {
            "tags": []
          }
        }
      ]
    },
    {
      "cell_type": "code",
      "metadata": {
        "id": "fzJrzResqD4C",
        "colab_type": "code",
        "outputId": "6a3984c9-b56c-4af5-df97-c474f2f300fa",
        "colab": {
          "base_uri": "https://localhost:8080/",
          "height": 770
        }
      },
      "source": [
        "# Excluding Mainland China \n",
        "\n",
        "dataSumOthers = dataSum.copy()\n",
        "dataSumOthers['Country/Region'] = dataSumOthers.index\n",
        "dataSumOthers = dataSumOthers.iloc[1:]\n",
        "\n",
        "dataSumOthers = dataSumOthers.reset_index (drop = True).groupby('Country/Region').sum().sort_values(by = 'Confirmed', ascending = False)\n",
        "print(dataSumOthers)\n",
        "\n",
        "plt.figure (figsize = (12,8))\n",
        "plt.grid()\n",
        "plt.title('Confirmed / Recovered / Deaths by Location Excl. Mainland China', fontsize = 15, color = 'tab:purple')\n",
        "plt.xlabel('Number of Cases')\n",
        "plt.ylabel('Country / Region')\n",
        "\n",
        "plt.barh (y = dataSumOthers.index , width = dataSumOthers['Confirmed'])\n",
        "plt.barh (y = dataSumOthers.index , width = dataSumOthers['Recovered'], left = dataSumOthers['Confirmed'])\n",
        "plt.barh (y = dataSumOthers.index , width = dataSumOthers['Deaths'], left = dataSumOthers['Recovered'] + dataSumOthers['Confirmed'])\n",
        "\n",
        "plt.legend(dataSumOthers[['Confirmed', 'Recovered', 'Deaths']], loc = 0)"
      ],
      "execution_count": 53,
      "outputs": [
        {
          "output_type": "stream",
          "text": [
            "                Confirmed  Deaths  Recovered\n",
            "Country/Region                              \n",
            "Others              767.0     6.0       10.0\n",
            "US                  193.0    12.0       11.0\n",
            "Hong Kong           105.0     2.0       37.0\n",
            "Australia            52.0     2.0       11.0\n",
            "Taiwan               42.0     1.0       12.0\n",
            "Canada               36.0     0.0        6.0\n",
            "Macau                10.0     0.0        9.0\n",
            "Germany               5.0     0.0        0.0\n",
            "Austria               2.0     0.0        0.0\n",
            "Israel                1.0     0.0        0.0\n",
            "Lebanon               1.0     0.0        0.0\n",
            "Iraq                  0.0     0.0        0.0\n"
          ],
          "name": "stdout"
        },
        {
          "output_type": "execute_result",
          "data": {
            "text/plain": [
              "<matplotlib.legend.Legend at 0x7fe14b895d30>"
            ]
          },
          "metadata": {
            "tags": []
          },
          "execution_count": 53
        },
        {
          "output_type": "display_data",
          "data": {
            "image/png": "[encoded data removed]",
            "text/plain": [
              "<Figure size 864x576 with 1 Axes>"
            ]
          },
          "metadata": {
            "tags": []
          }
        }
      ]
    },
    {
      "cell_type": "markdown",
      "metadata": {
        "id": "k5nwaF1mnIo7",
        "colab_type": "text"
      },
      "source": [
        "# Cases over Time"
      ]
    },
    {
      "cell_type": "code",
      "metadata": {
        "id": "amnCs4iYfeK5",
        "colab_type": "code",
        "outputId": "6bbc5ec0-e336-4842-b201-9f2039fc1562",
        "colab": {
          "base_uri": "https://localhost:8080/",
          "height": 68
        }
      },
      "source": [
        "# Cleaning Last Update Column\n",
        "\n",
        "example1 = '1/22/2020 17:00'\n",
        "example2 = '2020-02-02T23:43:02'\n",
        "example3 = '1/23/20 17:00'\n",
        "\n",
        "def convertDatetime(x):\n",
        "\n",
        "  if '/' in x and len(x.split(' ')[0].split('/')[2]) > 2:\n",
        "    month = x.split(' ')[0].split('/')[0]\n",
        "    date = x.split(' ')[0].split('/')[1]\n",
        "    year = x.split(' ')[0].split('/')[2]\n",
        "\n",
        "  elif '/' in x and len(x.split(' ')[0].split('/')[2]) == 2:\n",
        "    month = x.split(' ')[0].split('/')[0]\n",
        "    date = x.split(' ')[0].split('/')[1]\n",
        "    year = x.split(' ')[0].split('/')[2] + '20'\n",
        "\n",
        "  else: \n",
        "    year = x.split('T')[0].split('-')[0]\n",
        "    month = x.split('T')[0].split('-')[1]\n",
        "    date = x.split('T')[0].split('-')[2]\n",
        "\n",
        "\n",
        "  dateTime = date + '/'+ month + '/' + year\n",
        "\n",
        "  return dateTime\n",
        "\n",
        "print(convertDatetime(example1))\n",
        "print(convertDatetime(example2))\n",
        "print(convertDatetime(example3))"
      ],
      "execution_count": 54,
      "outputs": [
        {
          "output_type": "stream",
          "text": [
            "22/1/2020\n",
            "02/02/2020\n",
            "23/1/2020\n"
          ],
          "name": "stdout"
        }
      ]
    },
    {
      "cell_type": "code",
      "metadata": {
        "id": "sU5Z9jl7Dk5O",
        "colab_type": "code",
        "colab": {}
      },
      "source": [
        "# Function to Standardize Last Update \n",
        "def convertDatetime(x):\n",
        "\n",
        "  if '/' in x and len(x.split(' ')[0].split('/')[2]) > 2:\n",
        "    month = x.split(' ')[0].split('/')[0]\n",
        "    date = x.split(' ')[0].split('/')[1]\n",
        "    year = x.split(' ')[0].split('/')[2]\n",
        "\n",
        "  elif '/' in x and len(x.split(' ')[0].split('/')[2]) == 2:\n",
        "    month = x.split(' ')[0].split('/')[0]\n",
        "    date = x.split(' ')[0].split('/')[1]\n",
        "    year = x.split(' ')[0].split('/')[2] + '20'\n",
        "\n",
        "  else: \n",
        "    year = x.split('T')[0].split('-')[0]\n",
        "    month = x.split('T')[0].split('-')[1]\n",
        "    date = x.split('T')[0].split('-')[2]\n",
        "\n",
        "\n",
        "  dateTime = date + '/'+ month + '/' + year\n",
        "\n",
        "  return dateTime"
      ],
      "execution_count": 0,
      "outputs": []
    },
    {
      "cell_type": "code",
      "metadata": {
        "id": "wCi6FtfGEEuH",
        "colab_type": "code",
        "outputId": "b2cc5168-e187-41e7-81f4-27e93c0526a4",
        "colab": {
          "base_uri": "https://localhost:8080/",
          "height": 318
        }
      },
      "source": [
        "# Converting Last Update & ObservationDate columns to Datetime Format \n",
        "\n",
        "data['LastUpdateDatetime'] = data['Last Update'].apply(convertDatetime)\n",
        "data['LastUpdateDatetime'] = pd.to_datetime(data['LastUpdateDatetime'], infer_datetime_format = True)\n",
        "data['ObservationDate'] = pd.to_datetime(data['ObservationDate'], format = '%m/%d/%Y')\n",
        "print(data.info())\n",
        "data.sample()"
      ],
      "execution_count": 68,
      "outputs": [
        {
          "output_type": "stream",
          "text": [
            "<class 'pandas.core.frame.DataFrame'>\n",
            "RangeIndex: 3395 entries, 0 to 3394\n",
            "Data columns (total 8 columns):\n",
            "ObservationDate       3395 non-null datetime64[ns]\n",
            "Province/State        2264 non-null object\n",
            "Country/Region        3395 non-null object\n",
            "Last Update           3395 non-null object\n",
            "Confirmed             3395 non-null float64\n",
            "Deaths                3395 non-null float64\n",
            "Recovered             3395 non-null float64\n",
            "LastUpdateDatetime    3395 non-null datetime64[ns]\n",
            "dtypes: datetime64[ns](2), float64(3), object(3)\n",
            "memory usage: 212.3+ KB\n",
            "None\n"
          ],
          "name": "stdout"
        },
        {
          "output_type": "execute_result",
          "data": {
            "text/html": [
              "<div>\n",
              "<style scoped>\n",
              "    .dataframe tbody tr th:only-of-type {\n",
              "        vertical-align: middle;\n",
              "    }\n",
              "\n",
              "    .dataframe tbody tr th {\n",
              "        vertical-align: top;\n",
              "    }\n",
              "\n",
              "    .dataframe thead th {\n",
              "        text-align: right;\n",
              "    }\n",
              "</style>\n",
              "<table border=\"1\" class=\"dataframe\">\n",
              "  <thead>\n",
              "    <tr style=\"text-align: right;\">\n",
              "      <th></th>\n",
              "      <th>ObservationDate</th>\n",
              "      <th>Province/State</th>\n",
              "      <th>Country/Region</th>\n",
              "      <th>Last Update</th>\n",
              "      <th>Confirmed</th>\n",
              "      <th>Deaths</th>\n",
              "      <th>Recovered</th>\n",
              "      <th>LastUpdateDatetime</th>\n",
              "    </tr>\n",
              "  </thead>\n",
              "  <tbody>\n",
              "    <tr>\n",
              "      <th>154</th>\n",
              "      <td>2020-01-25</td>\n",
              "      <td>Taiwan</td>\n",
              "      <td>Taiwan</td>\n",
              "      <td>1/25/20 17:00</td>\n",
              "      <td>3.0</td>\n",
              "      <td>0.0</td>\n",
              "      <td>0.0</td>\n",
              "      <td>2020-01-25</td>\n",
              "    </tr>\n",
              "  </tbody>\n",
              "</table>\n",
              "</div>"
            ],
            "text/plain": [
              "    ObservationDate Province/State  ... Recovered LastUpdateDatetime\n",
              "154      2020-01-25         Taiwan  ...       0.0         2020-01-25\n",
              "\n",
              "[1 rows x 8 columns]"
            ]
          },
          "metadata": {
            "tags": []
          },
          "execution_count": 68
        }
      ]
    },
    {
      "cell_type": "code",
      "metadata": {
        "id": "A34JDWY5nprb",
        "colab_type": "code",
        "outputId": "28d4abca-1a9a-4fed-a38e-1771d0a76ef6",
        "colab": {
          "base_uri": "https://localhost:8080/",
          "height": 870
        }
      },
      "source": [
        "# Drop Last Update and use LastUpdateDatetime \n",
        "\n",
        "#data.drop(columns = 'Last Update', axis = 1, inplace = True)\n",
        "\n",
        "casesOvertime = data.groupby(['LastUpdateDatetime']).sum()\n",
        "\n",
        "# Current Cases = Confirmed - Recovered - Deaths \n",
        "\n",
        "casesOvertime['Current'] = casesOvertime['Confirmed'] - casesOvertime['Deaths'] - casesOvertime['Recovered']\n",
        "print(casesOvertime.info())\n",
        "\n",
        "casesOvertime[:20]"
      ],
      "execution_count": 69,
      "outputs": [
        {
          "output_type": "stream",
          "text": [
            "<class 'pandas.core.frame.DataFrame'>\n",
            "DatetimeIndex: 43 entries, 2020-01-22 to 2020-03-04\n",
            "Data columns (total 4 columns):\n",
            "Confirmed    43 non-null float64\n",
            "Deaths       43 non-null float64\n",
            "Recovered    43 non-null float64\n",
            "Current      43 non-null float64\n",
            "dtypes: float64(4)\n",
            "memory usage: 1.7 KB\n",
            "None\n"
          ],
          "name": "stdout"
        },
        {
          "output_type": "execute_result",
          "data": {
            "text/html": [
              "<div>\n",
              "<style scoped>\n",
              "    .dataframe tbody tr th:only-of-type {\n",
              "        vertical-align: middle;\n",
              "    }\n",
              "\n",
              "    .dataframe tbody tr th {\n",
              "        vertical-align: top;\n",
              "    }\n",
              "\n",
              "    .dataframe thead th {\n",
              "        text-align: right;\n",
              "    }\n",
              "</style>\n",
              "<table border=\"1\" class=\"dataframe\">\n",
              "  <thead>\n",
              "    <tr style=\"text-align: right;\">\n",
              "      <th></th>\n",
              "      <th>Confirmed</th>\n",
              "      <th>Deaths</th>\n",
              "      <th>Recovered</th>\n",
              "      <th>Current</th>\n",
              "    </tr>\n",
              "    <tr>\n",
              "      <th>LastUpdateDatetime</th>\n",
              "      <th></th>\n",
              "      <th></th>\n",
              "      <th></th>\n",
              "      <th></th>\n",
              "    </tr>\n",
              "  </thead>\n",
              "  <tbody>\n",
              "    <tr>\n",
              "      <th>2020-01-22</th>\n",
              "      <td>555.0</td>\n",
              "      <td>17.0</td>\n",
              "      <td>28.0</td>\n",
              "      <td>510.0</td>\n",
              "    </tr>\n",
              "    <tr>\n",
              "      <th>2020-01-23</th>\n",
              "      <td>653.0</td>\n",
              "      <td>18.0</td>\n",
              "      <td>30.0</td>\n",
              "      <td>605.0</td>\n",
              "    </tr>\n",
              "    <tr>\n",
              "      <th>2020-01-24</th>\n",
              "      <td>941.0</td>\n",
              "      <td>26.0</td>\n",
              "      <td>36.0</td>\n",
              "      <td>879.0</td>\n",
              "    </tr>\n",
              "    <tr>\n",
              "      <th>2020-01-25</th>\n",
              "      <td>1438.0</td>\n",
              "      <td>42.0</td>\n",
              "      <td>39.0</td>\n",
              "      <td>1357.0</td>\n",
              "    </tr>\n",
              "    <tr>\n",
              "      <th>2020-01-26</th>\n",
              "      <td>2118.0</td>\n",
              "      <td>56.0</td>\n",
              "      <td>52.0</td>\n",
              "      <td>2010.0</td>\n",
              "    </tr>\n",
              "    <tr>\n",
              "      <th>2020-01-27</th>\n",
              "      <td>2927.0</td>\n",
              "      <td>82.0</td>\n",
              "      <td>61.0</td>\n",
              "      <td>2784.0</td>\n",
              "    </tr>\n",
              "    <tr>\n",
              "      <th>2020-01-28</th>\n",
              "      <td>5578.0</td>\n",
              "      <td>131.0</td>\n",
              "      <td>107.0</td>\n",
              "      <td>5340.0</td>\n",
              "    </tr>\n",
              "    <tr>\n",
              "      <th>2020-01-29</th>\n",
              "      <td>6165.0</td>\n",
              "      <td>133.0</td>\n",
              "      <td>126.0</td>\n",
              "      <td>5906.0</td>\n",
              "    </tr>\n",
              "    <tr>\n",
              "      <th>2020-01-30</th>\n",
              "      <td>8235.0</td>\n",
              "      <td>171.0</td>\n",
              "      <td>143.0</td>\n",
              "      <td>7921.0</td>\n",
              "    </tr>\n",
              "    <tr>\n",
              "      <th>2020-01-31</th>\n",
              "      <td>10151.0</td>\n",
              "      <td>213.0</td>\n",
              "      <td>239.0</td>\n",
              "      <td>9699.0</td>\n",
              "    </tr>\n",
              "    <tr>\n",
              "      <th>2020-02-01</th>\n",
              "      <td>12287.0</td>\n",
              "      <td>259.0</td>\n",
              "      <td>288.0</td>\n",
              "      <td>11740.0</td>\n",
              "    </tr>\n",
              "    <tr>\n",
              "      <th>2020-02-02</th>\n",
              "      <td>16804.0</td>\n",
              "      <td>366.0</td>\n",
              "      <td>463.0</td>\n",
              "      <td>15975.0</td>\n",
              "    </tr>\n",
              "    <tr>\n",
              "      <th>2020-02-03</th>\n",
              "      <td>19892.0</td>\n",
              "      <td>425.0</td>\n",
              "      <td>617.0</td>\n",
              "      <td>18850.0</td>\n",
              "    </tr>\n",
              "    <tr>\n",
              "      <th>2020-02-04</th>\n",
              "      <td>24027.0</td>\n",
              "      <td>491.0</td>\n",
              "      <td>866.0</td>\n",
              "      <td>22670.0</td>\n",
              "    </tr>\n",
              "    <tr>\n",
              "      <th>2020-02-05</th>\n",
              "      <td>27587.0</td>\n",
              "      <td>563.0</td>\n",
              "      <td>1120.0</td>\n",
              "      <td>25904.0</td>\n",
              "    </tr>\n",
              "    <tr>\n",
              "      <th>2020-02-06</th>\n",
              "      <td>30798.0</td>\n",
              "      <td>633.0</td>\n",
              "      <td>1507.0</td>\n",
              "      <td>28658.0</td>\n",
              "    </tr>\n",
              "    <tr>\n",
              "      <th>2020-02-07</th>\n",
              "      <td>34485.0</td>\n",
              "      <td>723.0</td>\n",
              "      <td>2000.0</td>\n",
              "      <td>31762.0</td>\n",
              "    </tr>\n",
              "    <tr>\n",
              "      <th>2020-02-08</th>\n",
              "      <td>37073.0</td>\n",
              "      <td>805.0</td>\n",
              "      <td>2655.0</td>\n",
              "      <td>33613.0</td>\n",
              "    </tr>\n",
              "    <tr>\n",
              "      <th>2020-02-09</th>\n",
              "      <td>40326.0</td>\n",
              "      <td>905.0</td>\n",
              "      <td>3313.0</td>\n",
              "      <td>36108.0</td>\n",
              "    </tr>\n",
              "    <tr>\n",
              "      <th>2020-02-10</th>\n",
              "      <td>42696.0</td>\n",
              "      <td>1012.0</td>\n",
              "      <td>3905.0</td>\n",
              "      <td>37779.0</td>\n",
              "    </tr>\n",
              "  </tbody>\n",
              "</table>\n",
              "</div>"
            ],
            "text/plain": [
              "                    Confirmed  Deaths  Recovered  Current\n",
              "LastUpdateDatetime                                       \n",
              "2020-01-22              555.0    17.0       28.0    510.0\n",
              "2020-01-23              653.0    18.0       30.0    605.0\n",
              "2020-01-24              941.0    26.0       36.0    879.0\n",
              "2020-01-25             1438.0    42.0       39.0   1357.0\n",
              "2020-01-26             2118.0    56.0       52.0   2010.0\n",
              "2020-01-27             2927.0    82.0       61.0   2784.0\n",
              "2020-01-28             5578.0   131.0      107.0   5340.0\n",
              "2020-01-29             6165.0   133.0      126.0   5906.0\n",
              "2020-01-30             8235.0   171.0      143.0   7921.0\n",
              "2020-01-31            10151.0   213.0      239.0   9699.0\n",
              "2020-02-01            12287.0   259.0      288.0  11740.0\n",
              "2020-02-02            16804.0   366.0      463.0  15975.0\n",
              "2020-02-03            19892.0   425.0      617.0  18850.0\n",
              "2020-02-04            24027.0   491.0      866.0  22670.0\n",
              "2020-02-05            27587.0   563.0     1120.0  25904.0\n",
              "2020-02-06            30798.0   633.0     1507.0  28658.0\n",
              "2020-02-07            34485.0   723.0     2000.0  31762.0\n",
              "2020-02-08            37073.0   805.0     2655.0  33613.0\n",
              "2020-02-09            40326.0   905.0     3313.0  36108.0\n",
              "2020-02-10            42696.0  1012.0     3905.0  37779.0"
            ]
          },
          "metadata": {
            "tags": []
          },
          "execution_count": 69
        }
      ]
    },
    {
      "cell_type": "code",
      "metadata": {
        "id": "ljnf6DHZcQMu",
        "colab_type": "code",
        "colab": {
          "base_uri": "https://localhost:8080/",
          "height": 372
        },
        "outputId": "774f64ff-cd37-45f7-c119-c4c98879014f"
      },
      "source": [
        "# Current - Recovered - Deaths over Time \n",
        "\n",
        "plt.figure (figsize = (15, 5))\n",
        "plt.grid()\n",
        "\n",
        "dates = casesOvertime.index\n",
        "casesCurrent = casesOvertime['Current']\n",
        "casesRecovered = casesOvertime['Recovered']\n",
        "casesDeaths = casesOvertime['Deaths']\n",
        "\n",
        "plt.plot_date(dates, casesCurrent, fmt = 'o-', xdate = True, ydate = False, label = 'Current')\n",
        "plt.plot_date(dates, casesRecovered, fmt = 'o-', xdate = True, ydate = False, label = 'Recovered')\n",
        "plt.plot_date(dates, casesDeaths, fmt = 'o-', xdate = True, ydate = False, label = 'Deaths')\n",
        "\n",
        "plt.legend(loc = 0)\n",
        "\n",
        "plt.title('Current - Recovered - Death Cases Worldwide', fontsize = 20, color = 'tab:purple')\n",
        "plt.xlabel('Date', color = 'tab:blue')\n",
        "plt.xlabel('Number of Cases', color = 'tab:blue')"
      ],
      "execution_count": 83,
      "outputs": [
        {
          "output_type": "execute_result",
          "data": {
            "text/plain": [
              "Text(0.5, 0, 'Number of Cases')"
            ]
          },
          "metadata": {
            "tags": []
          },
          "execution_count": 83
        },
        {
          "output_type": "display_data",
          "data": {
            "image/png": "[encoded data removed]",
            "text/plain": [
              "<Figure size 1080x360 with 1 Axes>"
            ]
          },
          "metadata": {
            "tags": []
          }
        }
      ]
    },
    {
      "cell_type": "markdown",
      "metadata": {
        "id": "UttYRUwYorzH",
        "colab_type": "text"
      },
      "source": [
        "# Vietnam"
      ]
    },
    {
      "cell_type": "code",
      "metadata": {
        "id": "WlHHShT2os-M",
        "colab_type": "code",
        "colab": {}
      },
      "source": [
        "vietnam = data[data['Country/Region'] == 'Vietnam']"
      ],
      "execution_count": 0,
      "outputs": []
    },
    {
      "cell_type": "code",
      "metadata": {
        "id": "l8cFb706t_af",
        "colab_type": "code",
        "colab": {
          "base_uri": "https://localhost:8080/",
          "height": 51
        },
        "outputId": "c8c18e9c-1806-4d0f-eee9-b4c63dcef7b7"
      },
      "source": [
        "example0 = '2020-02-10T03:03:09'\n",
        "\n",
        "print(convertDatetime(example0))\n",
        "pd.to_datetime(convertDatetime(example0), infer_datetime_format = True)"
      ],
      "execution_count": 72,
      "outputs": [
        {
          "output_type": "stream",
          "text": [
            "10/02/2020\n"
          ],
          "name": "stdout"
        },
        {
          "output_type": "execute_result",
          "data": {
            "text/plain": [
              "Timestamp('2020-10-02 00:00:00')"
            ]
          },
          "metadata": {
            "tags": []
          },
          "execution_count": 72
        }
      ]
    },
    {
      "cell_type": "code",
      "metadata": {
        "id": "ocJaypXQozey",
        "colab_type": "code",
        "colab": {
          "base_uri": "https://localhost:8080/",
          "height": 907
        },
        "outputId": "c823a12e-abe2-4dfd-b542-af2aa2e06a25"
      },
      "source": [
        "print(vietnam.info())\n",
        "vietnam[:20]"
      ],
      "execution_count": 73,
      "outputs": [
        {
          "output_type": "stream",
          "text": [
            "<class 'pandas.core.frame.DataFrame'>\n",
            "Int64Index: 42 entries, 79 to 3296\n",
            "Data columns (total 8 columns):\n",
            "ObservationDate       42 non-null datetime64[ns]\n",
            "Province/State        0 non-null object\n",
            "Country/Region        42 non-null object\n",
            "Last Update           42 non-null object\n",
            "Confirmed             42 non-null float64\n",
            "Deaths                42 non-null float64\n",
            "Recovered             42 non-null float64\n",
            "LastUpdateDatetime    42 non-null datetime64[ns]\n",
            "dtypes: datetime64[ns](2), float64(3), object(3)\n",
            "memory usage: 3.0+ KB\n",
            "None\n"
          ],
          "name": "stdout"
        },
        {
          "output_type": "execute_result",
          "data": {
            "text/html": [
              "<div>\n",
              "<style scoped>\n",
              "    .dataframe tbody tr th:only-of-type {\n",
              "        vertical-align: middle;\n",
              "    }\n",
              "\n",
              "    .dataframe tbody tr th {\n",
              "        vertical-align: top;\n",
              "    }\n",
              "\n",
              "    .dataframe thead th {\n",
              "        text-align: right;\n",
              "    }\n",
              "</style>\n",
              "<table border=\"1\" class=\"dataframe\">\n",
              "  <thead>\n",
              "    <tr style=\"text-align: right;\">\n",
              "      <th></th>\n",
              "      <th>ObservationDate</th>\n",
              "      <th>Province/State</th>\n",
              "      <th>Country/Region</th>\n",
              "      <th>Last Update</th>\n",
              "      <th>Confirmed</th>\n",
              "      <th>Deaths</th>\n",
              "      <th>Recovered</th>\n",
              "      <th>LastUpdateDatetime</th>\n",
              "    </tr>\n",
              "  </thead>\n",
              "  <tbody>\n",
              "    <tr>\n",
              "      <th>79</th>\n",
              "      <td>2020-01-23</td>\n",
              "      <td>NaN</td>\n",
              "      <td>Vietnam</td>\n",
              "      <td>1/23/20 17:00</td>\n",
              "      <td>2.0</td>\n",
              "      <td>0.0</td>\n",
              "      <td>0.0</td>\n",
              "      <td>2020-01-23</td>\n",
              "    </tr>\n",
              "    <tr>\n",
              "      <th>123</th>\n",
              "      <td>2020-01-24</td>\n",
              "      <td>NaN</td>\n",
              "      <td>Vietnam</td>\n",
              "      <td>1/24/20 17:00</td>\n",
              "      <td>2.0</td>\n",
              "      <td>0.0</td>\n",
              "      <td>0.0</td>\n",
              "      <td>2020-01-24</td>\n",
              "    </tr>\n",
              "    <tr>\n",
              "      <th>164</th>\n",
              "      <td>2020-01-25</td>\n",
              "      <td>NaN</td>\n",
              "      <td>Vietnam</td>\n",
              "      <td>1/25/20 17:00</td>\n",
              "      <td>2.0</td>\n",
              "      <td>0.0</td>\n",
              "      <td>0.0</td>\n",
              "      <td>2020-01-25</td>\n",
              "    </tr>\n",
              "    <tr>\n",
              "      <th>210</th>\n",
              "      <td>2020-01-26</td>\n",
              "      <td>NaN</td>\n",
              "      <td>Vietnam</td>\n",
              "      <td>1/26/20 16:00</td>\n",
              "      <td>2.0</td>\n",
              "      <td>0.0</td>\n",
              "      <td>0.0</td>\n",
              "      <td>2020-01-26</td>\n",
              "    </tr>\n",
              "    <tr>\n",
              "      <th>257</th>\n",
              "      <td>2020-01-27</td>\n",
              "      <td>NaN</td>\n",
              "      <td>Vietnam</td>\n",
              "      <td>1/27/20 23:59</td>\n",
              "      <td>2.0</td>\n",
              "      <td>0.0</td>\n",
              "      <td>0.0</td>\n",
              "      <td>2020-01-27</td>\n",
              "    </tr>\n",
              "    <tr>\n",
              "      <th>308</th>\n",
              "      <td>2020-01-28</td>\n",
              "      <td>NaN</td>\n",
              "      <td>Vietnam</td>\n",
              "      <td>1/28/20 23:00</td>\n",
              "      <td>2.0</td>\n",
              "      <td>0.0</td>\n",
              "      <td>0.0</td>\n",
              "      <td>2020-01-28</td>\n",
              "    </tr>\n",
              "    <tr>\n",
              "      <th>360</th>\n",
              "      <td>2020-01-29</td>\n",
              "      <td>NaN</td>\n",
              "      <td>Vietnam</td>\n",
              "      <td>1/29/20 19:30</td>\n",
              "      <td>2.0</td>\n",
              "      <td>0.0</td>\n",
              "      <td>0.0</td>\n",
              "      <td>2020-01-29</td>\n",
              "    </tr>\n",
              "    <tr>\n",
              "      <th>415</th>\n",
              "      <td>2020-01-30</td>\n",
              "      <td>NaN</td>\n",
              "      <td>Vietnam</td>\n",
              "      <td>1/30/20 16:00</td>\n",
              "      <td>2.0</td>\n",
              "      <td>0.0</td>\n",
              "      <td>0.0</td>\n",
              "      <td>2020-01-30</td>\n",
              "    </tr>\n",
              "    <tr>\n",
              "      <th>477</th>\n",
              "      <td>2020-01-31</td>\n",
              "      <td>NaN</td>\n",
              "      <td>Vietnam</td>\n",
              "      <td>1/31/2020 23:59</td>\n",
              "      <td>2.0</td>\n",
              "      <td>0.0</td>\n",
              "      <td>0.0</td>\n",
              "      <td>2020-01-31</td>\n",
              "    </tr>\n",
              "    <tr>\n",
              "      <th>533</th>\n",
              "      <td>2020-02-01</td>\n",
              "      <td>NaN</td>\n",
              "      <td>Vietnam</td>\n",
              "      <td>2/1/2020 7:38</td>\n",
              "      <td>6.0</td>\n",
              "      <td>0.0</td>\n",
              "      <td>1.0</td>\n",
              "      <td>2020-02-01</td>\n",
              "    </tr>\n",
              "    <tr>\n",
              "      <th>600</th>\n",
              "      <td>2020-02-02</td>\n",
              "      <td>NaN</td>\n",
              "      <td>Vietnam</td>\n",
              "      <td>2020-02-01T07:38:12</td>\n",
              "      <td>6.0</td>\n",
              "      <td>0.0</td>\n",
              "      <td>1.0</td>\n",
              "      <td>2020-02-01</td>\n",
              "    </tr>\n",
              "    <tr>\n",
              "      <th>666</th>\n",
              "      <td>2020-02-03</td>\n",
              "      <td>NaN</td>\n",
              "      <td>Vietnam</td>\n",
              "      <td>2020-02-03T21:43:02</td>\n",
              "      <td>8.0</td>\n",
              "      <td>0.0</td>\n",
              "      <td>1.0</td>\n",
              "      <td>2020-02-03</td>\n",
              "    </tr>\n",
              "    <tr>\n",
              "      <th>734</th>\n",
              "      <td>2020-02-04</td>\n",
              "      <td>NaN</td>\n",
              "      <td>Vietnam</td>\n",
              "      <td>2020-02-03T21:43:02</td>\n",
              "      <td>8.0</td>\n",
              "      <td>0.0</td>\n",
              "      <td>1.0</td>\n",
              "      <td>2020-02-03</td>\n",
              "    </tr>\n",
              "    <tr>\n",
              "      <th>804</th>\n",
              "      <td>2020-02-05</td>\n",
              "      <td>NaN</td>\n",
              "      <td>Vietnam</td>\n",
              "      <td>2020-02-03T21:43:02</td>\n",
              "      <td>8.0</td>\n",
              "      <td>0.0</td>\n",
              "      <td>1.0</td>\n",
              "      <td>2020-02-03</td>\n",
              "    </tr>\n",
              "    <tr>\n",
              "      <th>875</th>\n",
              "      <td>2020-02-06</td>\n",
              "      <td>NaN</td>\n",
              "      <td>Vietnam</td>\n",
              "      <td>2020-02-06T01:13:08</td>\n",
              "      <td>10.0</td>\n",
              "      <td>0.0</td>\n",
              "      <td>1.0</td>\n",
              "      <td>2020-02-06</td>\n",
              "    </tr>\n",
              "    <tr>\n",
              "      <th>947</th>\n",
              "      <td>2020-02-07</td>\n",
              "      <td>NaN</td>\n",
              "      <td>Vietnam</td>\n",
              "      <td>2020-02-06T01:13:08</td>\n",
              "      <td>10.0</td>\n",
              "      <td>0.0</td>\n",
              "      <td>1.0</td>\n",
              "      <td>2020-02-06</td>\n",
              "    </tr>\n",
              "    <tr>\n",
              "      <th>1018</th>\n",
              "      <td>2020-02-08</td>\n",
              "      <td>NaN</td>\n",
              "      <td>Vietnam</td>\n",
              "      <td>2020-02-08T07:23:04</td>\n",
              "      <td>13.0</td>\n",
              "      <td>0.0</td>\n",
              "      <td>1.0</td>\n",
              "      <td>2020-02-08</td>\n",
              "    </tr>\n",
              "    <tr>\n",
              "      <th>1090</th>\n",
              "      <td>2020-02-09</td>\n",
              "      <td>NaN</td>\n",
              "      <td>Vietnam</td>\n",
              "      <td>2020-02-08T07:23:04</td>\n",
              "      <td>13.0</td>\n",
              "      <td>0.0</td>\n",
              "      <td>1.0</td>\n",
              "      <td>2020-02-08</td>\n",
              "    </tr>\n",
              "    <tr>\n",
              "      <th>1162</th>\n",
              "      <td>2020-02-10</td>\n",
              "      <td>NaN</td>\n",
              "      <td>Vietnam</td>\n",
              "      <td>2020-02-10T03:03:09</td>\n",
              "      <td>14.0</td>\n",
              "      <td>0.0</td>\n",
              "      <td>1.0</td>\n",
              "      <td>2020-02-10</td>\n",
              "    </tr>\n",
              "    <tr>\n",
              "      <th>1234</th>\n",
              "      <td>2020-02-11</td>\n",
              "      <td>NaN</td>\n",
              "      <td>Vietnam</td>\n",
              "      <td>2020-02-11T16:43:06</td>\n",
              "      <td>15.0</td>\n",
              "      <td>0.0</td>\n",
              "      <td>6.0</td>\n",
              "      <td>2020-02-11</td>\n",
              "    </tr>\n",
              "  </tbody>\n",
              "</table>\n",
              "</div>"
            ],
            "text/plain": [
              "     ObservationDate Province/State  ... Recovered LastUpdateDatetime\n",
              "79        2020-01-23            NaN  ...       0.0         2020-01-23\n",
              "123       2020-01-24            NaN  ...       0.0         2020-01-24\n",
              "164       2020-01-25            NaN  ...       0.0         2020-01-25\n",
              "210       2020-01-26            NaN  ...       0.0         2020-01-26\n",
              "257       2020-01-27            NaN  ...       0.0         2020-01-27\n",
              "308       2020-01-28            NaN  ...       0.0         2020-01-28\n",
              "360       2020-01-29            NaN  ...       0.0         2020-01-29\n",
              "415       2020-01-30            NaN  ...       0.0         2020-01-30\n",
              "477       2020-01-31            NaN  ...       0.0         2020-01-31\n",
              "533       2020-02-01            NaN  ...       1.0         2020-02-01\n",
              "600       2020-02-02            NaN  ...       1.0         2020-02-01\n",
              "666       2020-02-03            NaN  ...       1.0         2020-02-03\n",
              "734       2020-02-04            NaN  ...       1.0         2020-02-03\n",
              "804       2020-02-05            NaN  ...       1.0         2020-02-03\n",
              "875       2020-02-06            NaN  ...       1.0         2020-02-06\n",
              "947       2020-02-07            NaN  ...       1.0         2020-02-06\n",
              "1018      2020-02-08            NaN  ...       1.0         2020-02-08\n",
              "1090      2020-02-09            NaN  ...       1.0         2020-02-08\n",
              "1162      2020-02-10            NaN  ...       1.0         2020-02-10\n",
              "1234      2020-02-11            NaN  ...       6.0         2020-02-11\n",
              "\n",
              "[20 rows x 8 columns]"
            ]
          },
          "metadata": {
            "tags": []
          },
          "execution_count": 73
        }
      ]
    },
    {
      "cell_type": "code",
      "metadata": {
        "id": "xf7mBAZ1o6JC",
        "colab_type": "code",
        "colab": {
          "base_uri": "https://localhost:8080/",
          "height": 153
        },
        "outputId": "59094b86-5d9a-4ac4-ede4-d7cf813b705d"
      },
      "source": [
        "# Last Updated 4th March 2020, Vietnam has 16 Reported Cases & according to this data, no recovery and no death. \n",
        "vietnam.groupby('Country/Region').last().sum()"
      ],
      "execution_count": 74,
      "outputs": [
        {
          "output_type": "execute_result",
          "data": {
            "text/plain": [
              "ObservationDate       2020-03-04 00:00:00\n",
              "Province/State                          0\n",
              "Last Update           2020-02-25T08:53:02\n",
              "Confirmed                              16\n",
              "Deaths                                  0\n",
              "Recovered                              16\n",
              "LastUpdateDatetime    2020-02-25 00:00:00\n",
              "dtype: object"
            ]
          },
          "metadata": {
            "tags": []
          },
          "execution_count": 74
        }
      ]
    },
    {
      "cell_type": "code",
      "metadata": {
        "id": "DEaH9rVapYLq",
        "colab_type": "code",
        "colab": {
          "base_uri": "https://localhost:8080/",
          "height": 930
        },
        "outputId": "40eaadb0-32b3-43a5-92ca-c4791bbfec3f"
      },
      "source": [
        "vietnam.drop_duplicates(subset = 'LastUpdateDatetime', keep = 'last', inplace = True)\n",
        "print(vietnam.info())\n",
        "vietnam"
      ],
      "execution_count": 75,
      "outputs": [
        {
          "output_type": "stream",
          "text": [
            "<class 'pandas.core.frame.DataFrame'>\n",
            "Int64Index: 18 entries, 79 to 3296\n",
            "Data columns (total 8 columns):\n",
            "ObservationDate       18 non-null datetime64[ns]\n",
            "Province/State        0 non-null object\n",
            "Country/Region        18 non-null object\n",
            "Last Update           18 non-null object\n",
            "Confirmed             18 non-null float64\n",
            "Deaths                18 non-null float64\n",
            "Recovered             18 non-null float64\n",
            "LastUpdateDatetime    18 non-null datetime64[ns]\n",
            "dtypes: datetime64[ns](2), float64(3), object(3)\n",
            "memory usage: 1.3+ KB\n",
            "None\n"
          ],
          "name": "stdout"
        },
        {
          "output_type": "stream",
          "text": [
            "/usr/local/lib/python3.6/dist-packages/ipykernel_launcher.py:1: SettingWithCopyWarning: \n",
            "A value is trying to be set on a copy of a slice from a DataFrame\n",
            "\n",
            "See the caveats in the documentation: http://pandas.pydata.org/pandas-docs/stable/user_guide/indexing.html#returning-a-view-versus-a-copy\n",
            "  \"\"\"Entry point for launching an IPython kernel.\n"
          ],
          "name": "stderr"
        },
        {
          "output_type": "execute_result",
          "data": {
            "text/html": [
              "<div>\n",
              "<style scoped>\n",
              "    .dataframe tbody tr th:only-of-type {\n",
              "        vertical-align: middle;\n",
              "    }\n",
              "\n",
              "    .dataframe tbody tr th {\n",
              "        vertical-align: top;\n",
              "    }\n",
              "\n",
              "    .dataframe thead th {\n",
              "        text-align: right;\n",
              "    }\n",
              "</style>\n",
              "<table border=\"1\" class=\"dataframe\">\n",
              "  <thead>\n",
              "    <tr style=\"text-align: right;\">\n",
              "      <th></th>\n",
              "      <th>ObservationDate</th>\n",
              "      <th>Province/State</th>\n",
              "      <th>Country/Region</th>\n",
              "      <th>Last Update</th>\n",
              "      <th>Confirmed</th>\n",
              "      <th>Deaths</th>\n",
              "      <th>Recovered</th>\n",
              "      <th>LastUpdateDatetime</th>\n",
              "    </tr>\n",
              "  </thead>\n",
              "  <tbody>\n",
              "    <tr>\n",
              "      <th>79</th>\n",
              "      <td>2020-01-23</td>\n",
              "      <td>NaN</td>\n",
              "      <td>Vietnam</td>\n",
              "      <td>1/23/20 17:00</td>\n",
              "      <td>2.0</td>\n",
              "      <td>0.0</td>\n",
              "      <td>0.0</td>\n",
              "      <td>2020-01-23</td>\n",
              "    </tr>\n",
              "    <tr>\n",
              "      <th>123</th>\n",
              "      <td>2020-01-24</td>\n",
              "      <td>NaN</td>\n",
              "      <td>Vietnam</td>\n",
              "      <td>1/24/20 17:00</td>\n",
              "      <td>2.0</td>\n",
              "      <td>0.0</td>\n",
              "      <td>0.0</td>\n",
              "      <td>2020-01-24</td>\n",
              "    </tr>\n",
              "    <tr>\n",
              "      <th>164</th>\n",
              "      <td>2020-01-25</td>\n",
              "      <td>NaN</td>\n",
              "      <td>Vietnam</td>\n",
              "      <td>1/25/20 17:00</td>\n",
              "      <td>2.0</td>\n",
              "      <td>0.0</td>\n",
              "      <td>0.0</td>\n",
              "      <td>2020-01-25</td>\n",
              "    </tr>\n",
              "    <tr>\n",
              "      <th>210</th>\n",
              "      <td>2020-01-26</td>\n",
              "      <td>NaN</td>\n",
              "      <td>Vietnam</td>\n",
              "      <td>1/26/20 16:00</td>\n",
              "      <td>2.0</td>\n",
              "      <td>0.0</td>\n",
              "      <td>0.0</td>\n",
              "      <td>2020-01-26</td>\n",
              "    </tr>\n",
              "    <tr>\n",
              "      <th>257</th>\n",
              "      <td>2020-01-27</td>\n",
              "      <td>NaN</td>\n",
              "      <td>Vietnam</td>\n",
              "      <td>1/27/20 23:59</td>\n",
              "      <td>2.0</td>\n",
              "      <td>0.0</td>\n",
              "      <td>0.0</td>\n",
              "      <td>2020-01-27</td>\n",
              "    </tr>\n",
              "    <tr>\n",
              "      <th>308</th>\n",
              "      <td>2020-01-28</td>\n",
              "      <td>NaN</td>\n",
              "      <td>Vietnam</td>\n",
              "      <td>1/28/20 23:00</td>\n",
              "      <td>2.0</td>\n",
              "      <td>0.0</td>\n",
              "      <td>0.0</td>\n",
              "      <td>2020-01-28</td>\n",
              "    </tr>\n",
              "    <tr>\n",
              "      <th>360</th>\n",
              "      <td>2020-01-29</td>\n",
              "      <td>NaN</td>\n",
              "      <td>Vietnam</td>\n",
              "      <td>1/29/20 19:30</td>\n",
              "      <td>2.0</td>\n",
              "      <td>0.0</td>\n",
              "      <td>0.0</td>\n",
              "      <td>2020-01-29</td>\n",
              "    </tr>\n",
              "    <tr>\n",
              "      <th>415</th>\n",
              "      <td>2020-01-30</td>\n",
              "      <td>NaN</td>\n",
              "      <td>Vietnam</td>\n",
              "      <td>1/30/20 16:00</td>\n",
              "      <td>2.0</td>\n",
              "      <td>0.0</td>\n",
              "      <td>0.0</td>\n",
              "      <td>2020-01-30</td>\n",
              "    </tr>\n",
              "    <tr>\n",
              "      <th>477</th>\n",
              "      <td>2020-01-31</td>\n",
              "      <td>NaN</td>\n",
              "      <td>Vietnam</td>\n",
              "      <td>1/31/2020 23:59</td>\n",
              "      <td>2.0</td>\n",
              "      <td>0.0</td>\n",
              "      <td>0.0</td>\n",
              "      <td>2020-01-31</td>\n",
              "    </tr>\n",
              "    <tr>\n",
              "      <th>600</th>\n",
              "      <td>2020-02-02</td>\n",
              "      <td>NaN</td>\n",
              "      <td>Vietnam</td>\n",
              "      <td>2020-02-01T07:38:12</td>\n",
              "      <td>6.0</td>\n",
              "      <td>0.0</td>\n",
              "      <td>1.0</td>\n",
              "      <td>2020-02-01</td>\n",
              "    </tr>\n",
              "    <tr>\n",
              "      <th>804</th>\n",
              "      <td>2020-02-05</td>\n",
              "      <td>NaN</td>\n",
              "      <td>Vietnam</td>\n",
              "      <td>2020-02-03T21:43:02</td>\n",
              "      <td>8.0</td>\n",
              "      <td>0.0</td>\n",
              "      <td>1.0</td>\n",
              "      <td>2020-02-03</td>\n",
              "    </tr>\n",
              "    <tr>\n",
              "      <th>947</th>\n",
              "      <td>2020-02-07</td>\n",
              "      <td>NaN</td>\n",
              "      <td>Vietnam</td>\n",
              "      <td>2020-02-06T01:13:08</td>\n",
              "      <td>10.0</td>\n",
              "      <td>0.0</td>\n",
              "      <td>1.0</td>\n",
              "      <td>2020-02-06</td>\n",
              "    </tr>\n",
              "    <tr>\n",
              "      <th>1090</th>\n",
              "      <td>2020-02-09</td>\n",
              "      <td>NaN</td>\n",
              "      <td>Vietnam</td>\n",
              "      <td>2020-02-08T07:23:04</td>\n",
              "      <td>13.0</td>\n",
              "      <td>0.0</td>\n",
              "      <td>1.0</td>\n",
              "      <td>2020-02-08</td>\n",
              "    </tr>\n",
              "    <tr>\n",
              "      <th>1162</th>\n",
              "      <td>2020-02-10</td>\n",
              "      <td>NaN</td>\n",
              "      <td>Vietnam</td>\n",
              "      <td>2020-02-10T03:03:09</td>\n",
              "      <td>14.0</td>\n",
              "      <td>0.0</td>\n",
              "      <td>1.0</td>\n",
              "      <td>2020-02-10</td>\n",
              "    </tr>\n",
              "    <tr>\n",
              "      <th>1307</th>\n",
              "      <td>2020-02-12</td>\n",
              "      <td>NaN</td>\n",
              "      <td>Vietnam</td>\n",
              "      <td>2020-02-11T16:43:06</td>\n",
              "      <td>15.0</td>\n",
              "      <td>0.0</td>\n",
              "      <td>6.0</td>\n",
              "      <td>2020-02-11</td>\n",
              "    </tr>\n",
              "    <tr>\n",
              "      <th>1905</th>\n",
              "      <td>2020-02-20</td>\n",
              "      <td>NaN</td>\n",
              "      <td>Vietnam</td>\n",
              "      <td>2020-02-13T06:33:02</td>\n",
              "      <td>16.0</td>\n",
              "      <td>0.0</td>\n",
              "      <td>7.0</td>\n",
              "      <td>2020-02-13</td>\n",
              "    </tr>\n",
              "    <tr>\n",
              "      <th>2237</th>\n",
              "      <td>2020-02-24</td>\n",
              "      <td>NaN</td>\n",
              "      <td>Vietnam</td>\n",
              "      <td>2020-02-21T06:03:04</td>\n",
              "      <td>16.0</td>\n",
              "      <td>0.0</td>\n",
              "      <td>14.0</td>\n",
              "      <td>2020-02-21</td>\n",
              "    </tr>\n",
              "    <tr>\n",
              "      <th>3296</th>\n",
              "      <td>2020-03-04</td>\n",
              "      <td>NaN</td>\n",
              "      <td>Vietnam</td>\n",
              "      <td>2020-02-25T08:53:02</td>\n",
              "      <td>16.0</td>\n",
              "      <td>0.0</td>\n",
              "      <td>16.0</td>\n",
              "      <td>2020-02-25</td>\n",
              "    </tr>\n",
              "  </tbody>\n",
              "</table>\n",
              "</div>"
            ],
            "text/plain": [
              "     ObservationDate Province/State  ... Recovered LastUpdateDatetime\n",
              "79        2020-01-23            NaN  ...       0.0         2020-01-23\n",
              "123       2020-01-24            NaN  ...       0.0         2020-01-24\n",
              "164       2020-01-25            NaN  ...       0.0         2020-01-25\n",
              "210       2020-01-26            NaN  ...       0.0         2020-01-26\n",
              "257       2020-01-27            NaN  ...       0.0         2020-01-27\n",
              "308       2020-01-28            NaN  ...       0.0         2020-01-28\n",
              "360       2020-01-29            NaN  ...       0.0         2020-01-29\n",
              "415       2020-01-30            NaN  ...       0.0         2020-01-30\n",
              "477       2020-01-31            NaN  ...       0.0         2020-01-31\n",
              "600       2020-02-02            NaN  ...       1.0         2020-02-01\n",
              "804       2020-02-05            NaN  ...       1.0         2020-02-03\n",
              "947       2020-02-07            NaN  ...       1.0         2020-02-06\n",
              "1090      2020-02-09            NaN  ...       1.0         2020-02-08\n",
              "1162      2020-02-10            NaN  ...       1.0         2020-02-10\n",
              "1307      2020-02-12            NaN  ...       6.0         2020-02-11\n",
              "1905      2020-02-20            NaN  ...       7.0         2020-02-13\n",
              "2237      2020-02-24            NaN  ...      14.0         2020-02-21\n",
              "3296      2020-03-04            NaN  ...      16.0         2020-02-25\n",
              "\n",
              "[18 rows x 8 columns]"
            ]
          },
          "metadata": {
            "tags": []
          },
          "execution_count": 75
        }
      ]
    },
    {
      "cell_type": "code",
      "metadata": {
        "id": "g5PuE9V2qXvR",
        "colab_type": "code",
        "colab": {
          "base_uri": "https://localhost:8080/",
          "height": 372
        },
        "outputId": "29be1a45-813e-4d2e-daac-0fbe6bb76dba"
      },
      "source": [
        "plt.figure(figsize = (20,5))\n",
        "plt.grid()\n",
        "plt.plot_date(x = vietnam['LastUpdateDatetime'], y = vietnam['Confirmed'] - vietnam['Recovered'] - vietnam['Deaths'], fmt = '-p', xdate = True, ydate = False)\n",
        "plt.plot_date(x = vietnam['LastUpdateDatetime'], y = vietnam['Recovered'], fmt = '-p', xdate = True, ydate = False)\n",
        "plt.plot_date(x = vietnam['LastUpdateDatetime'], y = vietnam['Deaths'], fmt = '-p', xdate = True, ydate = False)\n",
        "\n",
        "plt.title('Vietnam Current - Recovered - Death Cases', fontsize = 20, color = 'tab:purple')\n",
        "plt.xlabel('Date', color = 'tab:blue')\n",
        "plt.ylabel('Number of Cases', color = 'tab:blue')"
      ],
      "execution_count": 79,
      "outputs": [
        {
          "output_type": "execute_result",
          "data": {
            "text/plain": [
              "Text(0, 0.5, 'Number of Cases')"
            ]
          },
          "metadata": {
            "tags": []
          },
          "execution_count": 79
        },
        {
          "output_type": "display_data",
          "data": {
            "image/png": "[encoded data removed]",
            "text/plain": [
              "<Figure size 1440x360 with 1 Axes>"
            ]
          },
          "metadata": {
            "tags": []
          }
        }
      ]
    },
    {
      "cell_type": "code",
      "metadata": {
        "id": "chv-ZqwxshnR",
        "colab_type": "code",
        "colab": {}
      },
      "source": [
        ""
      ],
      "execution_count": 0,
      "outputs": []
    }
  ]
}